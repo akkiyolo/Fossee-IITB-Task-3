{
 "cells": [
  {
   "cell_type": "code",
   "execution_count": null,
   "id": "fa2c9765",
   "metadata": {},
   "outputs": [],
   "source": [
    "# Code Analysis with CodeBERT\n",
    "from transformers import RobertaTokenizer, RobertaForSequenceClassification\n",
    "import torch\n",
    "\n",
    "# Load model\n",
    "tokenizer = RobertaTokenizer.from_pretrained(\"microsoft/codebert-base\")\n",
    "model = RobertaForSequenceClassification.from_pretrained(\"microsoft/codebert-base\")\n",
    "\n",
    "# Example student code\n",
    "student_code = \"for i in range(5) print(i)\"\n",
    "\n",
    "# Tokenize\n",
    "inputs = tokenizer(student_code, return_tensors=\"pt\", truncation=True)\n",
    "\n",
    "# Forward pass\n",
    "outputs = model(**inputs)\n",
    "print(\"Logits:\", outputs.logits)"
   ]
  }
 ],
 "metadata": {
  "kernelspec": {
   "display_name": "Python 3",
   "language": "python",
   "name": "python3"
  },
  "language_info": {
   "name": "python",
   "version": "3.11.5"
  }
 },
 "nbformat": 4,
 "nbformat_minor": 5
}
